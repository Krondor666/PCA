{
 "cells": [
  {
   "cell_type": "code",
   "execution_count": 10,
   "metadata": {
    "collapsed": false
   },
   "outputs": [],
   "source": [
    "import numpy as np\n",
    "import pandas as pd\n",
    "import sklearn\n",
    "import autograd\n",
    "from sklearn.decomposition import PCA\n",
    "import matplotlib.pyplot as plt\n",
    "from mpl_toolkits.mplot3d import Axes3D\n",
    "from sklearn.preprocessing import MinMaxScaler\n",
    "\n",
    "%matplotlib inline"
   ]
  },
  {
   "cell_type": "code",
   "execution_count": 11,
   "metadata": {
    "collapsed": true
   },
   "outputs": [],
   "source": [
    "Macro=pd.read_csv('macro - CPIAUCSL.csv')"
   ]
  },
  {
   "cell_type": "code",
   "execution_count": 28,
   "metadata": {
    "collapsed": false
   },
   "outputs": [
    {
     "name": "stdout",
     "output_type": "stream",
     "text": [
      "   CPIAUCSL  BUSLOANS   GDPC1  FEDFUNDS  UNRATE  R/D\n",
      "0    26.840   22.4539  2559.4      1.03     6.0    1\n",
      "1    26.757   22.6042  2609.3      0.99     5.3    1\n",
      "2    26.793   22.9938  2683.8      1.34     4.7    1\n",
      "3    26.757   23.7303  2727.5      1.50     4.4    1\n",
      "4    26.777   24.9522  2764.1      1.94     4.1    1\n",
      "~~~~~~~~~~~~~~~~~~~~~~~~~~~~~~~~~~~~~~~~~~~~~~~~~~~~~~~~~~~~~~~~~~~~\n",
      "Variables are as follows:\n",
      "DATE=date in dd/m/yy format,\n",
      "CPIAUCSL= consumer price index for all urban consumers (US),\n",
      "BUSLOANS=business loan rate (US),\n",
      "GDPC1= real GDP (US),\n",
      "FEDFUNDS= federal funds rate,\n",
      "UNRATE= unemployment rate,\n",
      "R/D= binary variable for government of day {1=republican, 0=democratic}\n",
      "~~~~~~Data sourced from FRED~~~~~~~\n"
     ]
    }
   ],
   "source": [
    "print(Macro.head(5))\n",
    "\n",
    "print('~~~~~~~~~~~~~~~~~~~~~~~~~~~~~~~~~~~~~~~~~~~~~~~~~~~~~~~~~~~~~~~~~~~~')\n",
    "\n",
    "print('Variables are as follows:')\n",
    "print('DATE=date in dd/m/yy format,')\n",
    "print('CPIAUCSL= consumer price index for all urban consumers (US),')\n",
    "print('BUSLOANS=business loan rate (US),')\n",
    "print('GDPC1= real GDP (US),')\n",
    "print('FEDFUNDS= federal funds rate,')\n",
    "print('UNRATE= unemployment rate,')\n",
    "print('R/D= binary variable for government of day {1=republican, 0=democratic}')\n",
    "\n",
    "\n",
    "print('~~~~~~Data sourced from FRED~~~~~~~')"
   ]
  },
  {
   "cell_type": "markdown",
   "metadata": {},
   "source": [
    "## I want to perform principle component analysis on the quantitative variables here\n",
    "\n",
    "## I really need to normalise the data to account for difference in units of measurement and magnitude\n",
    "\n",
    "## PCA is a way of taking (potentially correlated) variables   and to represent them in in space as linerally uncorrelated vectors (principle components) in order of amount of variance explained."
   ]
  },
  {
   "cell_type": "code",
   "execution_count": 13,
   "metadata": {
    "collapsed": false
   },
   "outputs": [],
   "source": [
    "Macro=Macro.ix[:,Macro.columns!= 'DATE'] #remove non-quantitative variables (date)\n",
    "\n",
    "rescaledX = (Macro - Macro.mean()) / Macro.std()\n",
    "#This normalises the data\n",
    "\n",
    "MacroX=pd.DataFrame(rescaledX) #this is rescaled data: between 0 and 1\n",
    "MacroX.columns=['CPIAUCSL','BUSLOANS','GDPC1','FEDFUNDS','UNRATE','R/D']"
   ]
  },
  {
   "cell_type": "code",
   "execution_count": 14,
   "metadata": {
    "collapsed": false
   },
   "outputs": [
    {
     "data": {
      "text/plain": [
       "PCA(copy=True, n_components=3, whiten=False)"
      ]
     },
     "execution_count": 14,
     "metadata": {},
     "output_type": "execute_result"
    }
   ],
   "source": [
    "pca=PCA(n_components=3) #somewhat arbitrary. Could make a cutoff point (<5% explained)\n",
    "pca.fit(MacroX)"
   ]
  },
  {
   "cell_type": "code",
   "execution_count": 15,
   "metadata": {
    "collapsed": false
   },
   "outputs": [
    {
     "name": "stdout",
     "output_type": "stream",
     "text": [
      "Variance explained  by principle components is: [ 0.53848114  0.1934321   0.14010165]\n"
     ]
    }
   ],
   "source": [
    "PC1 = np.array(pca.components_[0])\n",
    "PC2 = np.array(pca.components_[1])\n",
    "PC3 = np.array(pca.components_[2])\n",
    "\n",
    "print('Variance explained  by principle components is:', pca.explained_variance_ratio_) "
   ]
  },
  {
   "cell_type": "code",
   "execution_count": 16,
   "metadata": {
    "collapsed": false
   },
   "outputs": [
    {
     "data": {
      "text/plain": [
       "<matplotlib.collections.PathCollection at 0x543ad86438>"
      ]
     },
     "execution_count": 16,
     "metadata": {},
     "output_type": "execute_result"
    },
    {
     "data": {
      "image/png": "[encoded data removed]",
      "text/plain": [
       "<matplotlib.figure.Figure at 0x543a94c320>"
      ]
     },
     "metadata": {},
     "output_type": "display_data"
    }
   ],
   "source": [
    "TranfX=pca.transform(MacroX)\n",
    "\n",
    "plt.scatter(TranfX[:,0],TranfX[:,1], color='red')"
   ]
  },
  {
   "cell_type": "code",
   "execution_count": 18,
   "metadata": {
    "collapsed": false
   },
   "outputs": [
    {
     "data": {
      "text/plain": [
       "<matplotlib.text.Text at 0x543ae6f6a0>"
      ]
     },
     "execution_count": 18,
     "metadata": {},
     "output_type": "execute_result"
    },
    {
     "data": {
      "image/png": "[encoded data removed]",
      "text/plain": [
       "<matplotlib.figure.Figure at 0x543ae44438>"
      ]
     },
     "metadata": {},
     "output_type": "display_data"
    }
   ],
   "source": [
    "fig = plt.figure()\n",
    "ax = fig.add_subplot(111, projection='3d')\n",
    "ax.scatter(TranfX[:,0],TranfX[:,1],TranfX[:,2],color='red')\n",
    "plt.title('3D Representation')"
   ]
  },
  {
   "cell_type": "markdown",
   "metadata": {},
   "source": [
    "## Each PC is a linear combination of our variables:\n",
    "\n",
    "$PC_{j}= \\beta_{1}^{j}X_{1}+\\beta_{2}^{j}X_{2}+...+\\beta_{k}^{j}X_{k}$ \n",
    "\n",
    "## for k variables (6 in our case)"
   ]
  },
  {
   "cell_type": "code",
   "execution_count": 19,
   "metadata": {
    "collapsed": false
   },
   "outputs": [
    {
     "data": {
      "text/html": [
       "<div>\n",
       "<table border=\"1\" class=\"dataframe\">\n",
       "  <thead>\n",
       "    <tr style=\"text-align: right;\">\n",
       "      <th></th>\n",
       "      <th>PC-1</th>\n",
       "      <th>PC-2</th>\n",
       "      <th>PC-3</th>\n",
       "    </tr>\n",
       "  </thead>\n",
       "  <tbody>\n",
       "    <tr>\n",
       "      <th>CPIAUCSL</th>\n",
       "      <td>0.542819</td>\n",
       "      <td>-0.124651</td>\n",
       "      <td>0.086928</td>\n",
       "    </tr>\n",
       "    <tr>\n",
       "      <th>BUSLOANS</th>\n",
       "      <td>0.543103</td>\n",
       "      <td>-0.036021</td>\n",
       "      <td>0.116580</td>\n",
       "    </tr>\n",
       "    <tr>\n",
       "      <th>GDPC1</th>\n",
       "      <td>0.542091</td>\n",
       "      <td>-0.083285</td>\n",
       "      <td>0.129608</td>\n",
       "    </tr>\n",
       "    <tr>\n",
       "      <th>FEDFUNDS</th>\n",
       "      <td>-0.282507</td>\n",
       "      <td>-0.418017</td>\n",
       "      <td>-0.021752</td>\n",
       "    </tr>\n",
       "    <tr>\n",
       "      <th>UNRATE</th>\n",
       "      <td>0.117228</td>\n",
       "      <td>-0.660094</td>\n",
       "      <td>-0.676102</td>\n",
       "    </tr>\n",
       "    <tr>\n",
       "      <th>R/D</th>\n",
       "      <td>-0.151561</td>\n",
       "      <td>-0.604786</td>\n",
       "      <td>0.710258</td>\n",
       "    </tr>\n",
       "  </tbody>\n",
       "</table>\n",
       "</div>"
      ],
      "text/plain": [
       "              PC-1      PC-2      PC-3\n",
       "CPIAUCSL  0.542819 -0.124651  0.086928\n",
       "BUSLOANS  0.543103 -0.036021  0.116580\n",
       "GDPC1     0.542091 -0.083285  0.129608\n",
       "FEDFUNDS -0.282507 -0.418017 -0.021752\n",
       "UNRATE    0.117228 -0.660094 -0.676102\n",
       "R/D      -0.151561 -0.604786  0.710258"
      ]
     },
     "execution_count": 19,
     "metadata": {},
     "output_type": "execute_result"
    }
   ],
   "source": [
    "#Returning coefficients of principle component \n",
    "\n",
    "i = np.identity(MacroX.shape[1])  # identity matrix\n",
    "i\n",
    "\n",
    "coef=pca.transform(i)\n",
    "coef\n",
    "\n",
    "pd.DataFrame(coef, columns=['PC-1', 'PC-2','PC-3'], index=MacroX.columns)"
   ]
  },
  {
   "cell_type": "markdown",
   "metadata": {},
   "source": [
    "# Analysing the components:\n",
    "\n",
    "## PC1 has CPIAUCSL, BUSLOANS and GDPC1 as important factors. The other 3 are less represented here. PC1 represents ~53% of the total variation.\n",
    "\n",
    "## PC2 has UNRATE and R/D as the most important factors, followed by FEDFUNDS. This PC represenst ~19% of total variation explained\n",
    "\n",
    "## PC3 has R/D as a very important factor. PC3 represents ~14% of total variation explained."
   ]
  },
  {
   "cell_type": "code",
   "execution_count": 20,
   "metadata": {
    "collapsed": false
   },
   "outputs": [
    {
     "data": {
      "text/plain": [
       "array([ 1.,  1.,  1.])"
      ]
     },
     "execution_count": 20,
     "metadata": {},
     "output_type": "execute_result"
    }
   ],
   "source": [
    "np.linalg.norm(coef,axis=0) #this confirms that the principle components \n",
    "                            #indeed have a variance of 1- just making sure \n",
    "                            #being valid here"
   ]
  },
  {
   "cell_type": "markdown",
   "metadata": {
    "collapsed": true
   },
   "source": [
    "## I will now do the above, but using an autoencoder instead. An autoencoder 'encodes' your data and then 'decodes' it back together again. The decoding part is non-aritrary and involves less energy than the encoding itself. Thus, any reconstruction much be as efficient as possible (it aims to minimize an error function between the original input and the resulting decoded data). An autoencoder is therefore a ML solution to dimension reduction-like PCA."
   ]
  },
  {
   "cell_type": "code",
   "execution_count": 30,
   "metadata": {
    "collapsed": false
   },
   "outputs": [],
   "source": [
    "#get Keras working: \"Input\" not working\n",
    "#allocate to Monday, or another day with time."
   ]
  },
  {
   "cell_type": "code",
   "execution_count": null,
   "metadata": {
    "collapsed": true
   },
   "outputs": [],
   "source": []
  }
 ],
 "metadata": {
  "kernelspec": {
   "display_name": "Python [Root]",
   "language": "python",
   "name": "Python [Root]"
  },
  "language_info": {
   "codemirror_mode": {
    "name": "ipython",
    "version": 3
   },
   "file_extension": ".py",
   "mimetype": "text/x-python",
   "name": "python",
   "nbconvert_exporter": "python",
   "pygments_lexer": "ipython3",
   "version": "3.5.2"
  }
 },
 "nbformat": 4,
 "nbformat_minor": 0
}
