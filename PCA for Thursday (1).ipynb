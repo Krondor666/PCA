{
 "cells": [
  {
   "cell_type": "code",
   "execution_count": 109,
   "metadata": {
    "collapsed": false
   },
   "outputs": [],
   "source": [
    "import numpy as np\n",
    "import pandas as pd\n",
    "import sklearn\n",
    "import autograd\n",
    "from sklearn.decomposition import PCA\n",
    "import matplotlib.pyplot as plt\n",
    "from mpl_toolkits.mplot3d import Axes3D\n",
    "from sklearn.preprocessing import MinMaxScaler\n"
   ]
  },
  {
   "cell_type": "code",
   "execution_count": 110,
   "metadata": {
    "collapsed": true
   },
   "outputs": [],
   "source": [
    "Macro=pd.read_csv('macro - CPIAUCSL.csv')"
   ]
  },
  {
   "cell_type": "code",
   "execution_count": 111,
   "metadata": {
    "collapsed": false
   },
   "outputs": [
    {
     "name": "stdout",
     "output_type": "stream",
     "text": [
      "          DATE  CPIAUCSL   BUSLOANS    GDPC1  FEDFUNDS  UNRATE  R/D\n",
      "0     7/1/1954    26.840    22.4539   2559.4      1.03     6.0    1\n",
      "1    10/1/1954    26.757    22.6042   2609.3      0.99     5.3    1\n",
      "2     1/1/1955    26.793    22.9938   2683.8      1.34     4.7    1\n",
      "3     4/1/1955    26.757    23.7303   2727.5      1.50     4.4    1\n",
      "4     7/1/1955    26.777    24.9522   2764.1      1.94     4.1    1\n",
      "5    10/1/1955    26.857    26.3037   2780.8      2.36     4.2    1\n",
      "6     1/1/1956    26.860    27.7863   2770.0      2.48     4.0    1\n",
      "7     4/1/1956    27.037    29.7260   2792.9      2.69     4.2    1\n",
      "8     7/1/1956    27.317    31.0853   2790.6      2.81     4.1    1\n",
      "9    10/1/1956    27.550    32.2078   2836.2      2.93     4.1    1\n",
      "10    1/1/1957    27.777    32.8057   2854.5      2.93     3.9    1\n",
      "11    4/1/1957    28.013    33.6938   2848.2      3.00     4.1    1\n",
      "12    7/1/1957    28.263    34.5061   2875.9      3.23     4.2    1\n",
      "13   10/1/1957    28.400    34.2125   2846.4      3.25     4.9    1\n",
      "14    1/1/1958    28.737    34.7713   2772.7      1.86     6.3    1\n",
      "15    4/1/1958    28.930    34.4270   2790.9      0.94     7.4    1\n",
      "16    7/1/1958    28.913    34.3560   2855.5      1.32     7.3    1\n",
      "17   10/1/1958    28.943    34.8721   2922.3      2.16     6.4    1\n",
      "18    1/1/1959    28.993    35.1878   2976.6      2.57     5.8    1\n",
      "19    4/1/1959    29.043    36.3350   3049.0      3.08     5.1    1\n",
      "20    7/1/1959    29.193    38.0047   3043.1      3.58     5.3    1\n",
      "21   10/1/1959    29.370    38.8008   3055.1      3.99     5.6    1\n",
      "22    1/1/1960    29.397    39.8114   3123.2      3.93     5.1    1\n",
      "23    4/1/1960    29.573    40.9214   3111.3      3.70     5.2    0\n",
      "24    7/1/1960    29.590    41.3738   3119.1      2.94     5.5    0\n",
      "25   10/1/1960    29.780    41.7708   3081.3      2.30     6.3    0\n",
      "26    1/1/1961    29.840    42.0126   3102.3      2.00     6.8    0\n",
      "27    4/1/1961    29.830    42.2663   3159.9      1.73     7.0    0\n",
      "28    7/1/1961    29.947    42.6696   3212.6      1.68     6.8    0\n",
      "29   10/1/1961    29.990    43.3037   3277.7      2.40     6.2    0\n",
      "..         ...       ...        ...      ...       ...     ...  ...\n",
      "220   7/1/2009   215.344  1365.5873  14402.5      0.16     9.6    0\n",
      "221  10/1/2009   217.030  1287.5812  14541.9      0.12     9.9    0\n",
      "222   1/1/2010   217.374  1224.2306  14604.8      0.13     9.8    0\n",
      "223   4/1/2010   217.297  1198.0826  14745.9      0.19     9.6    0\n",
      "224   7/1/2010   217.934  1187.6524  14845.5      0.19     9.5    0\n",
      "225  10/1/2010   219.699  1188.0344  14939.0      0.19     9.5    0\n",
      "226   1/1/2011   222.044  1200.9021  14881.3      0.16     9.0    0\n",
      "227   4/1/2011   224.568  1225.7804  14989.6      0.09     9.1    0\n",
      "228   7/1/2011   226.033  1259.2246  15021.1      0.08     9.0    0\n",
      "229  10/1/2011   227.047  1292.2237  15190.3      0.07     8.6    0\n",
      "230   1/1/2012   228.326  1338.8277  15291.0      0.10     8.3    0\n",
      "231   4/1/2012   228.808  1381.8091  15362.4      0.15     8.2    0\n",
      "232   7/1/2012   229.841  1424.7876  15380.8      0.14     8.0    0\n",
      "233  10/1/2012   231.369  1460.4388  15384.3      0.16     7.8    0\n",
      "234   1/1/2013   232.299  1491.7469  15491.9      0.14     7.7    0\n",
      "235   4/1/2013   232.028  1513.2211  15521.6      0.12     7.5    0\n",
      "236   7/1/2013   233.281  1535.2045  15641.3      0.08     7.3    0\n",
      "237  10/1/2013   234.187  1561.0033  15793.9      0.09     6.9    0\n",
      "238   1/1/2014   235.678  1612.8456  15747.0      0.07     6.7    0\n",
      "239   4/1/2014   236.777  1664.0703  15900.8      0.09     6.2    0\n",
      "240   7/1/2014   237.389  1711.0623  16094.5      0.09     6.1    0\n",
      "241  10/1/2014   236.971  1752.0465  16186.7      0.10     5.7    0\n",
      "242   1/1/2015   235.464  1808.7984  16269.0      0.11     5.5    0\n",
      "243   4/1/2015   236.837  1862.6363  16374.2      0.12     5.4    0\n",
      "244   7/1/2015   237.718  1902.7000  16454.9      0.14     5.1    0\n",
      "245  10/1/2015   237.930  1945.1547  16490.7      0.16     5.0    0\n",
      "246   1/1/2016   237.997  1994.9643  16525.0      0.36     4.9    0\n",
      "247   4/1/2016   239.371  2053.2633  16583.1      0.37     4.9    0\n",
      "248   7/1/2016   240.431  2072.2956  16727.0      0.40     4.9    0\n",
      "249  10/1/2016   242.238  2100.8361  16804.8      0.45     4.7    0\n",
      "\n",
      "[250 rows x 7 columns]\n",
      "~~~~~~~~~~~~~~~~~~~~~~~~~~~~~~~~~~~~~~~~~~~~~~~~~~~~~~~~~~~~~~~~~~~~\n",
      "Variables are as follows:\n",
      "DATE=date in dd/m/yy format,\n",
      "CPIAUCSL= consumer price index for all urban consumers (US),\n",
      "BUSLOANS=business loan rate (US),\n",
      "GDPC1= real GDP (US),\n",
      "FEDFUNDS= federal funds rate,\n",
      "UNRATE= unemployment rate,\n",
      "R/D= binary variable for government of day {1=republican, 0=democratic}\n",
      "~~~~~~Data sourced from FRED~~~~~~~\n"
     ]
    }
   ],
   "source": [
    "print(Macro)\n",
    "\n",
    "print('~~~~~~~~~~~~~~~~~~~~~~~~~~~~~~~~~~~~~~~~~~~~~~~~~~~~~~~~~~~~~~~~~~~~')\n",
    "\n",
    "print('Variables are as follows:')\n",
    "print('DATE=date in dd/m/yy format,')\n",
    "print('CPIAUCSL= consumer price index for all urban consumers (US),')\n",
    "print('BUSLOANS=business loan rate (US),')\n",
    "print('GDPC1= real GDP (US),')\n",
    "print('FEDFUNDS= federal funds rate,')\n",
    "print('UNRATE= unemployment rate,')\n",
    "print('R/D= binary variable for government of day {1=republican, 0=democratic}')\n",
    "\n",
    "\n",
    "print('~~~~~~Data sourced from FRED~~~~~~~')"
   ]
  },
  {
   "cell_type": "markdown",
   "metadata": {},
   "source": [
    "## I want to perform principle component analysis on the quantitative variables here\n",
    "\n",
    "## I really need to normalise the data to account for difference in units of measurement and magnitude\n",
    "\n",
    "## PCA is a way of taking (potentially correlated) variables   and to represent them in in space as linerally uncorrelated vectors (principle components) in order of amount of variance explained."
   ]
  },
  {
   "cell_type": "code",
   "execution_count": 133,
   "metadata": {
    "collapsed": false
   },
   "outputs": [],
   "source": [
    "Macro=Macro.ix[:,Macro.columns!= 'DATE'] #remove non-quantitative variables (date)\n",
    "\n",
    "rescaledX = (Macro - Macro.mean()) / Macro.std()\n",
    "#This normalises the data\n",
    "\n",
    "MacroX=pd.DataFrame(rescaledX) #this is rescaled data: between 0 and 1\n",
    "MacroX.columns=['CPIAUCSL','BUSLOANS','GDPC1','FEDFUNDS','UNRATE','R/D']"
   ]
  },
  {
   "cell_type": "code",
   "execution_count": 134,
   "metadata": {
    "collapsed": false
   },
   "outputs": [
    {
     "data": {
      "text/plain": [
       "PCA(copy=True, n_components=3, whiten=False)"
      ]
     },
     "execution_count": 134,
     "metadata": {},
     "output_type": "execute_result"
    }
   ],
   "source": [
    "pca=PCA(n_components=3) #somewhat arbitrary. Could make a cutoff point (<5% explained)\n",
    "pca.fit(MacroX)"
   ]
  },
  {
   "cell_type": "code",
   "execution_count": 135,
   "metadata": {
    "collapsed": false
   },
   "outputs": [
    {
     "name": "stdout",
     "output_type": "stream",
     "text": [
      "Variance explained  by principle components is: [ 0.538  0.193  0.14 ]\n"
     ]
    }
   ],
   "source": [
    "PC1 = np.array(pca.components_[0])\n",
    "PC2 = np.array(pca.components_[1])\n",
    "PC3 = np.array(pca.components_[2])\n",
    "\n",
    "print('Variance explained  by principle components is:', pca.explained_variance_ratio_) "
   ]
  },
  {
   "cell_type": "code",
   "execution_count": 160,
   "metadata": {
    "collapsed": false
   },
   "outputs": [
    {
     "data": {
      "text/plain": [
       "<matplotlib.collections.PathCollection at 0xca5530e198>"
      ]
     },
     "execution_count": 160,
     "metadata": {},
     "output_type": "execute_result"
    },
    {
     "data": {
      "image/png": "[encoded data removed]",
      "text/plain": [
       "<matplotlib.figure.Figure at 0xca553f81d0>"
      ]
     },
     "metadata": {},
     "output_type": "display_data"
    }
   ],
   "source": [
    "TranfX=pca.transform(MacroX)\n",
    "\n",
    "plt.scatter(TranfX[:,0],TranfX[:,1], color=)"
   ]
  },
  {
   "cell_type": "code",
   "execution_count": 148,
   "metadata": {
    "collapsed": false
   },
   "outputs": [
    {
     "data": {
      "text/plain": [
       "<matplotlib.text.Text at 0xca550a16a0>"
      ]
     },
     "execution_count": 148,
     "metadata": {},
     "output_type": "execute_result"
    },
    {
     "data": {
      "image/png": "[encoded data removed]",
      "text/plain": [
       "<matplotlib.figure.Figure at 0xca5512b208>"
      ]
     },
     "metadata": {},
     "output_type": "display_data"
    }
   ],
   "source": [
    "fig = plt.figure()\n",
    "ax = fig.add_subplot(111, projection='3d')\n",
    "ax.scatter(TranfX[:,0],TranfX[:,1],TranfX[:,2],color=)\n",
    "plt.title('3D Representation')"
   ]
  },
  {
   "cell_type": "markdown",
   "metadata": {},
   "source": [
    "## Each PC is a linear combination of our variables:\n",
    "\n",
    "$PC_{j}= \\beta_{1}^{j}X_{1}+\\beta_{2}^{j}X_{2}+...+\\beta_{k}^{j}X_{k}$ \n",
    "\n",
    "## for k variables (6 in our case)"
   ]
  },
  {
   "cell_type": "code",
   "execution_count": 138,
   "metadata": {
    "collapsed": false
   },
   "outputs": [
    {
     "data": {
      "text/html": [
       "<div>\n",
       "<table border=\"1\" class=\"dataframe\">\n",
       "  <thead>\n",
       "    <tr style=\"text-align: right;\">\n",
       "      <th></th>\n",
       "      <th>PC-1</th>\n",
       "      <th>PC-2</th>\n",
       "      <th>PC-3</th>\n",
       "    </tr>\n",
       "  </thead>\n",
       "  <tbody>\n",
       "    <tr>\n",
       "      <th>CPIAUCSL</th>\n",
       "      <td>0.542819</td>\n",
       "      <td>-0.124651</td>\n",
       "      <td>0.086928</td>\n",
       "    </tr>\n",
       "    <tr>\n",
       "      <th>BUSLOANS</th>\n",
       "      <td>0.543103</td>\n",
       "      <td>-0.036021</td>\n",
       "      <td>0.116580</td>\n",
       "    </tr>\n",
       "    <tr>\n",
       "      <th>GDPC1</th>\n",
       "      <td>0.542091</td>\n",
       "      <td>-0.083285</td>\n",
       "      <td>0.129608</td>\n",
       "    </tr>\n",
       "    <tr>\n",
       "      <th>FEDFUNDS</th>\n",
       "      <td>-0.282507</td>\n",
       "      <td>-0.418017</td>\n",
       "      <td>-0.021752</td>\n",
       "    </tr>\n",
       "    <tr>\n",
       "      <th>UNRATE</th>\n",
       "      <td>0.117228</td>\n",
       "      <td>-0.660094</td>\n",
       "      <td>-0.676102</td>\n",
       "    </tr>\n",
       "    <tr>\n",
       "      <th>R/D</th>\n",
       "      <td>-0.151561</td>\n",
       "      <td>-0.604786</td>\n",
       "      <td>0.710258</td>\n",
       "    </tr>\n",
       "  </tbody>\n",
       "</table>\n",
       "</div>"
      ],
      "text/plain": [
       "              PC-1      PC-2      PC-3\n",
       "CPIAUCSL  0.542819 -0.124651  0.086928\n",
       "BUSLOANS  0.543103 -0.036021  0.116580\n",
       "GDPC1     0.542091 -0.083285  0.129608\n",
       "FEDFUNDS -0.282507 -0.418017 -0.021752\n",
       "UNRATE    0.117228 -0.660094 -0.676102\n",
       "R/D      -0.151561 -0.604786  0.710258"
      ]
     },
     "execution_count": 138,
     "metadata": {},
     "output_type": "execute_result"
    }
   ],
   "source": [
    "#Returning coefficients of principle component \n",
    "\n",
    "i = np.identity(MacroX.shape[1])  # identity matrix\n",
    "i\n",
    "\n",
    "coef=pca.transform(i)\n",
    "coef\n",
    "\n",
    "pd.DataFrame(coef, columns=['PC-1', 'PC-2','PC-3'], index=MacroX.columns)"
   ]
  },
  {
   "cell_type": "markdown",
   "metadata": {},
   "source": [
    "# Analysing the components:\n",
    "\n",
    "## PC1 has CPIAUCSL, BUSLOANS and GDPC1 as important factors. The other 3 are less represented here. PC1 represents ~53% of the total variation.\n",
    "\n",
    "## PC2 has UNRATE and R/D as the most important factors, followed by FEDFUNDS. This PC represenst ~19% of total variation explained\n",
    "\n",
    "## PC3 has R/D as a very important factor. PC3 represents ~14% of total variation explained."
   ]
  },
  {
   "cell_type": "code",
   "execution_count": 141,
   "metadata": {
    "collapsed": false
   },
   "outputs": [
    {
     "data": {
      "text/plain": [
       "array([ 1.,  1.,  1.])"
      ]
     },
     "execution_count": 141,
     "metadata": {},
     "output_type": "execute_result"
    }
   ],
   "source": [
    "np.linalg.norm(coef,axis=0) #this confirms that the principle components \n",
    "                            #indeed have a variance of 1- just making sure \n",
    "                            #being valid here"
   ]
  },
  {
   "cell_type": "code",
   "execution_count": null,
   "metadata": {
    "collapsed": true
   },
   "outputs": [],
   "source": []
  }
 ],
 "metadata": {
  "kernelspec": {
   "display_name": "Python [Root]",
   "language": "python",
   "name": "Python [Root]"
  },
  "language_info": {
   "codemirror_mode": {
    "name": "ipython",
    "version": 3
   },
   "file_extension": ".py",
   "mimetype": "text/x-python",
   "name": "python",
   "nbconvert_exporter": "python",
   "pygments_lexer": "ipython3",
   "version": "3.5.2"
  }
 },
 "nbformat": 4,
 "nbformat_minor": 0
}
